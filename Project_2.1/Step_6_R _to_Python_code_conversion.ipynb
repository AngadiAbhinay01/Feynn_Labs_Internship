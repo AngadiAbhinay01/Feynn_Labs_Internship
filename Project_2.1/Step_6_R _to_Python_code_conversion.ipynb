{
 "cells": [
  {
   "cell_type": "code",
   "execution_count": null,
   "id": "b371dde9",
   "metadata": {},
   "outputs": [],
   "source": [
    "R> MD.vclust <- hclust(dist(t(MD.x)))"
   ]
  },
  {
   "cell_type": "code",
   "execution_count": null,
   "id": "0a749c5b",
   "metadata": {},
   "outputs": [],
   "source": [
    "import numpy as np\n",
    "from scipy.cluster.hierarchy import linkage, dendrogram\n",
    "import matplotlib.pyplot as plt\n",
    "\n",
    "\n",
    "MD_dist = np.transpose(MD_x) \n",
    "Z = linkage(MD_dist, method='ward')\n",
    "\n",
    "dendrogram(Z)\n",
    "\n",
    "plt.show()\n"
   ]
  },
  {
   "cell_type": "code",
   "execution_count": null,
   "id": "ce2c968c",
   "metadata": {},
   "outputs": [],
   "source": [
    "R> barchart(MD.k4, shade = TRUE,+ which = rev(MD.vclust$order))"
   ]
  },
  {
   "cell_type": "code",
   "execution_count": null,
   "id": "51a9bc5f",
   "metadata": {},
   "outputs": [],
   "source": [
    "import matplotlib.pyplot as plt\n",
    "\n",
    "reversed_order = list(reversed(MD_vclust_order))\n",
    "\n",
    "plt.bar(range(len(MD_k4)), MD_k4, tick_label=reversed_order, color='blue', alpha=0.7)\n",
    "\n",
    "plt.xlabel('Order')\n",
    "plt.ylabel('MD.k4 Values')\n",
    "plt.title('Bar Chart')\n",
    "\n",
    "\n",
    "plt.show()\n"
   ]
  },
  {
   "cell_type": "code",
   "execution_count": null,
   "id": "115db743",
   "metadata": {},
   "outputs": [],
   "source": [
    "R> plot(MD.k4, project = MD.pca, data = MD.x,\n",
    "+ hull = FALSE, simlines = FALSE,+ xlab = \"principal component 1\",+ ylab = \"principal component 2\")R> projAxes(MD.pca)"
   ]
  },
  {
   "cell_type": "code",
   "execution_count": null,
   "id": "6dfd0cbf",
   "metadata": {},
   "outputs": [],
   "source": [
    "import numpy as np\n",
    "import matplotlib.pyplot as plt\n",
    "from sklearn.decomposition import PCA\n",
    "\n",
    "\n",
    "pca = PCA(n_components=2)\n",
    "MD_pca = pca.fit_transform(MD_x)\n",
    "\n",
    "plt.scatter(MD_k4, MD_pca[:, 0], c='b', marker='o', label='Principal Component 1')\n",
    "plt.scatter(MD_k4, MD_pca[:, 1], c='r', marker='x', label='Principal Component 2')\n",
    "plt.xlabel('MD.k4')\n",
    "plt.ylabel('Principal Components')\n",
    "plt.legend()\n",
    "\n",
    "plt.xlabel('Principal Component 1')\n",
    "plt.ylabel('Principal Component 2')\n",
    "\n",
    "plt.show()\n"
   ]
  }
 ],
 "metadata": {
  "kernelspec": {
   "display_name": "Python 3 (ipykernel)",
   "language": "python",
   "name": "python3"
  },
  "language_info": {
   "codemirror_mode": {
    "name": "ipython",
    "version": 3
   },
   "file_extension": ".py",
   "mimetype": "text/x-python",
   "name": "python",
   "nbconvert_exporter": "python",
   "pygments_lexer": "ipython3",
   "version": "3.11.4"
  }
 },
 "nbformat": 4,
 "nbformat_minor": 5
}
